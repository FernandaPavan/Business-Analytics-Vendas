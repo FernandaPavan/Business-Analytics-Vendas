{
 "cells": [
  {
   "cell_type": "markdown",
   "id": "7e296211-6c2d-4179-beee-698509999ea7",
   "metadata": {},
   "source": [
    "## **Análise de Dados de um Rede de Lojas de Açaí**"
   ]
  },
  {
   "cell_type": "markdown",
   "id": "cafa81f0-a6f9-4fc2-b692-3e230e5525b0",
   "metadata": {},
   "source": [
    "#### Carregando os Dados do Arquivo Excel"
   ]
  },
  {
   "cell_type": "code",
   "execution_count": null,
   "id": "33aa3c3f-eb18-4d11-8dd9-9746fc3e7ad4",
   "metadata": {},
   "outputs": [],
   "source": [
    "import pandas as pd\n",
    "\n",
    "dados = pd.read_excel(\"C:/Users/Fernanda Pavan/Desktop/Jupyter Notebook/Analise_vendas/vendas.xlsx\")"
   ]
  },
  {
   "cell_type": "markdown",
   "id": "3ef53b5a-2854-4024-8a8f-136397af32ec",
   "metadata": {},
   "source": [
    "#### Análise Exploratória"
   ]
  },
  {
   "cell_type": "code",
   "execution_count": null,
   "id": "e9c4b032-6cda-4234-8775-9833e3838aec",
   "metadata": {},
   "outputs": [],
   "source": [
    "# Verificando as primeiras linhas\n",
    "dados.head()"
   ]
  },
  {
   "cell_type": "code",
   "execution_count": null,
   "id": "8db674bd-58d6-4da8-8850-70a37e21d600",
   "metadata": {},
   "outputs": [],
   "source": [
    "# Verificando as últimas linhas\n",
    "dados.tail()"
   ]
  },
  {
   "cell_type": "code",
   "execution_count": null,
   "id": "de588f98-736c-472c-910e-54b6e82b7045",
   "metadata": {},
   "outputs": [],
   "source": [
    "# Verificando os tipos de dados\n",
    "dados.info()"
   ]
  },
  {
   "cell_type": "markdown",
   "id": "20d6b13a-61b1-4911-a96a-c61a6a1ec783",
   "metadata": {},
   "source": [
    "#### Gerando Estatísticas\n",
    "O método **describe()** gera estatísticas sobre todas as colunas quantitativas."
   ]
  },
  {
   "cell_type": "code",
   "execution_count": null,
   "id": "57bd0849-ed1b-4b18-a0b8-c82051670512",
   "metadata": {},
   "outputs": [],
   "source": [
    "dados.preco.describe().to_frame()"
   ]
  },
  {
   "cell_type": "markdown",
   "id": "301e0319-ebaf-4939-a1ee-05aef529dba6",
   "metadata": {},
   "source": [
    "#### Acessando uma Coluna\n",
    "Para acessar uma coluna podemos utilizar a notação de colchetes, passando o nome da coluna desejada. <br>\n",
    "Caso o nome da coluna não possua espaço em branco e nem caracteres especiais, podemos acessar também com a notação de ponto."
   ]
  },
  {
   "cell_type": "code",
   "execution_count": null,
   "id": "fff9bb42-f1ec-4da9-91f8-c59501caad22",
   "metadata": {},
   "outputs": [],
   "source": [
    "dados[\"loja\"]"
   ]
  },
  {
   "cell_type": "code",
   "execution_count": null,
   "id": "71442692-404a-4224-a1c4-66239a8eab61",
   "metadata": {},
   "outputs": [],
   "source": [
    "dados.loja"
   ]
  },
  {
   "cell_type": "markdown",
   "id": "ddf8f354-0ecb-40d2-b2f8-178effa98e17",
   "metadata": {},
   "source": [
    "#### Obtendo os Valores Únicos de uma Coluna\n",
    "Para obter os valores únicos utilizamos o método **unique().**"
   ]
  },
  {
   "cell_type": "code",
   "execution_count": null,
   "id": "e980b12c-8c31-436b-aff8-1e8773b0381d",
   "metadata": {},
   "outputs": [],
   "source": [
    "dados[\"loja\"].unique()"
   ]
  },
  {
   "cell_type": "markdown",
   "id": "7490009c-aafc-49b0-a8fd-1d25fd897bf0",
   "metadata": {},
   "source": [
    "#### Contagem de Valores\n",
    "Para fazer a contagem de valores de uma coluna, podemos utilizar o método **value_counts().**<br>\n",
    "Podemos obter também o valor relativo, utilizando o parâmetro **normalize=True** <br>\n",
    "Para arredondar para duas casas decimais, utilizamos o método **round().**"
   ]
  },
  {
   "cell_type": "code",
   "execution_count": null,
   "id": "71e7a3d3-c256-4eb6-9fd1-5aa5f06c1e59",
   "metadata": {},
   "outputs": [],
   "source": [
    "dados[\"loja\"].value_counts()"
   ]
  },
  {
   "cell_type": "code",
   "execution_count": null,
   "id": "c83cec01-7624-4139-849d-edeee9b6f3d8",
   "metadata": {},
   "outputs": [],
   "source": [
    "dados[\"loja\"].value_counts(normalize=True).round(2)"
   ]
  },
  {
   "cell_type": "markdown",
   "id": "2db83a04-e0ab-4692-8399-370cceb5b38d",
   "metadata": {},
   "source": [
    "#### Criando Análises"
   ]
  },
  {
   "cell_type": "code",
   "execution_count": null,
   "id": "d8650e95-08df-439c-8eff-08027b556a81",
   "metadata": {},
   "outputs": [],
   "source": [
    "dados.head()"
   ]
  },
  {
   "cell_type": "markdown",
   "id": "3e465ef4-058e-4173-abb8-e4db9f0a3651",
   "metadata": {},
   "source": [
    "#### Quantidade de vendas por loja"
   ]
  },
  {
   "cell_type": "code",
   "execution_count": null,
   "id": "466bf033-c70c-46dc-b680-a4010477b844",
   "metadata": {},
   "outputs": [],
   "source": [
    "dados.cidade.value_counts().to_frame()"
   ]
  },
  {
   "cell_type": "markdown",
   "id": "a7f96053-3b92-40d5-9d81-d5d5fc69dd2d",
   "metadata": {},
   "source": [
    "#### Quantidade de vendas por forma de pagamento"
   ]
  },
  {
   "cell_type": "code",
   "execution_count": null,
   "id": "45628d6d-624d-4706-9d89-7c43cf01fffd",
   "metadata": {},
   "outputs": [],
   "source": [
    "# Porque vendemos menos no Pix ? Há incentivo para as pessoas? \n",
    "# Vendas no crédito há taxa de cartão - então seria uma solução fazer uma campanha para o pix.\n",
    "dados.forma_pagamento.value_counts().to_frame()"
   ]
  },
  {
   "cell_type": "markdown",
   "id": "02265a40-df84-4fce-a47c-74a8f44f2a83",
   "metadata": {},
   "source": [
    "#### Análise de Faturamento - Agrupamento de dados"
   ]
  },
  {
   "cell_type": "code",
   "execution_count": null,
   "id": "fcbe6457-cdd9-438d-94d1-ea44db1d4c5a",
   "metadata": {},
   "outputs": [],
   "source": [
    "dados.head()"
   ]
  },
  {
   "cell_type": "markdown",
   "id": "42269157-812f-422c-a07b-708977bcafb6",
   "metadata": {},
   "source": [
    "#### Faturamento por loja"
   ]
  },
  {
   "cell_type": "code",
   "execution_count": null,
   "id": "870bee73-b827-4258-b99c-147c225adbfd",
   "metadata": {},
   "outputs": [],
   "source": [
    "# Na loja 2:houve menor faturamento,que corresponde, a loja de niteroi com menor valor de venda: 8801\n",
    "dados.groupby(\"loja\").preco.sum().to_frame()"
   ]
  },
  {
   "cell_type": "markdown",
   "id": "5e7f4f6f-a561-4a22-9b63-f2ad98faa561",
   "metadata": {},
   "source": [
    "#### Faturamento por Estado"
   ]
  },
  {
   "cell_type": "code",
   "execution_count": null,
   "id": "90062fa9-871b-4cb7-8d18-e2cb187e14e6",
   "metadata": {},
   "outputs": [],
   "source": [
    "# Qual estado tem maior faturamento: São Paulo\n",
    "# Qual estado tem menor faturamento: Ceara\n",
    "dados.groupby(\"estado\").preco.sum().to_frame()"
   ]
  },
  {
   "cell_type": "markdown",
   "id": "6453311d-0771-4e02-8902-a3ad577e2f0f",
   "metadata": {},
   "source": [
    "#### Faturamento por Estado e Cidade"
   ]
  },
  {
   "cell_type": "code",
   "execution_count": null,
   "id": "788849be-fa5b-4828-b382-6f7ffe0e7140",
   "metadata": {},
   "outputs": [],
   "source": [
    "dados.groupby([\"estado\",\"cidade\"]).preco.sum().to_frame()"
   ]
  },
  {
   "cell_type": "markdown",
   "id": "43b73355-d8b1-4894-aa40-257938c2ca70",
   "metadata": {},
   "source": [
    "#### Faturamento Total por Estado, Cidade e Forma de Pagamento "
   ]
  },
  {
   "cell_type": "code",
   "execution_count": null,
   "id": "a5053f0e-d379-4ba3-b6c2-9d5093994ad9",
   "metadata": {},
   "outputs": [],
   "source": [
    "faturamento_total = dados.groupby([\"estado\",\"cidade\",\"forma_pagamento\"]).preco.sum().to_frame()\n",
    "faturamento_total"
   ]
  },
  {
   "cell_type": "markdown",
   "id": "b52fda60-8be3-4352-936f-1cd026a2d421",
   "metadata": {},
   "source": [
    "#### Faturamento Medio por Estado, Cidade e Forma de Pagamento"
   ]
  },
  {
   "cell_type": "code",
   "execution_count": null,
   "id": "07037b0a-c98e-4a8b-a4b5-4a1dbb5ea709",
   "metadata": {},
   "outputs": [],
   "source": [
    "faturamento_medio = dados.groupby([\"estado\",\"cidade\",\"forma_pagamento\"]).preco.mean().to_frame()\n",
    "faturamento_medio"
   ]
  },
  {
   "cell_type": "markdown",
   "id": "6c24778e-6582-4e8b-a686-f1b22e4f3c00",
   "metadata": {},
   "source": [
    "#### **Visualização de Dados**"
   ]
  },
  {
   "cell_type": "code",
   "execution_count": null,
   "id": "fc82ad67-0426-4a42-b216-504d9f9dcb77",
   "metadata": {},
   "outputs": [],
   "source": [
    "#! pip install plotly-express"
   ]
  },
  {
   "cell_type": "code",
   "execution_count": null,
   "id": "53996098-5bb0-4971-939c-ea688dd6efb9",
   "metadata": {},
   "outputs": [],
   "source": [
    "import plotly_express as px"
   ]
  },
  {
   "cell_type": "code",
   "execution_count": null,
   "id": "bd326b0a-f91e-4b1d-9889-5ad3b938ac9b",
   "metadata": {},
   "outputs": [],
   "source": [
    "dados.head()"
   ]
  },
  {
   "cell_type": "raw",
   "id": "a35303bc-0365-4820-8790-49eaec428340",
   "metadata": {},
   "source": []
  },
  {
   "cell_type": "markdown",
   "id": "d6f69293-88f1-473c-a8f4-a2c12fbbca05",
   "metadata": {},
   "source": [
    "#### Indicador 1 - Quantidade de Vendas Por loja - ordenado por valores."
   ]
  },
  {
   "cell_type": "code",
   "execution_count": null,
   "id": "375245af-22f4-4e18-90cf-bdea62a7ba5c",
   "metadata": {},
   "outputs": [],
   "source": [
    "dados['loja'].value_counts().to_frame().sort_values(by='count')"
   ]
  },
  {
   "cell_type": "code",
   "execution_count": null,
   "id": "7fe74bfb-03d0-42c0-a47f-0dc2d5f82aab",
   "metadata": {},
   "outputs": [],
   "source": [
    "contagem_lojas = dados['loja'].value_counts().to_frame()\n",
    "contagem_lojas.reset_index(inplace=True)\n",
    "contagem_lojas = contagem_lojas.sort_values(by='count')\n",
    "grafico1 = px.histogram(dados, x=\"loja\", color=\"regiao\", text_auto=True)\n",
    "grafico1.update_layout(xaxis={'categoryorder':'array', 'categoryarray': contagem_lojas['loja']})\n",
    "grafico1.update_layout(title_text=\"Quantidade de Vendas por Loja\", title_x=0.1,  xaxis=dict(title=\"\"))\n",
    "grafico1.show()"
   ]
  },
  {
   "cell_type": "markdown",
   "id": "46b05128-8c7d-4695-b697-51baabd6bdea",
   "metadata": {},
   "source": [
    "#### Indicador 2 - Faturamento Por Loja - Ordenado por Valores."
   ]
  },
  {
   "cell_type": "code",
   "execution_count": null,
   "id": "557638f4-5da7-4a04-8464-58150a5f2757",
   "metadata": {},
   "outputs": [],
   "source": [
    "faturamento_loja = dados.groupby(\"loja\").preco.sum().sort_values()\n",
    "faturamento_loja"
   ]
  },
  {
   "cell_type": "code",
   "execution_count": null,
   "id": "0a9649b0-c4b6-4b9f-a7c4-790653b7e93f",
   "metadata": {},
   "outputs": [],
   "source": [
    "grafico2 = px.histogram(faturamento_loja,\n",
    "                        x=faturamento_loja.index,\n",
    "                        y=faturamento_loja.values,\n",
    "                        color=faturamento_loja.index,\n",
    "                        text_auto=True)\n",
    "grafico2.update_layout(title_text=\"Faturamento Por Loja\", title_x=0.1, xaxis=dict(title=\"\"))\n",
    "\n",
    "grafico2.show()"
   ]
  },
  {
   "cell_type": "markdown",
   "id": "3a869b9c-abe8-4dac-a3b2-6334d7b3ad6b",
   "metadata": {},
   "source": [
    "#### Indicador 3 - Quantidade de Vendas Por Cidade - Ordenado por Valores."
   ]
  },
  {
   "cell_type": "code",
   "execution_count": null,
   "id": "d73bca15-47fa-47c4-b85a-e2c0acbb726b",
   "metadata": {},
   "outputs": [],
   "source": [
    "dados.cidade.value_counts()"
   ]
  },
  {
   "cell_type": "code",
   "execution_count": null,
   "id": "ee938758-2a48-4592-8f50-10f6a3f5a2a8",
   "metadata": {},
   "outputs": [],
   "source": [
    "contagem_cidade = dados['cidade'].value_counts().to_frame().reset_index()\n",
    "contagem_cidade.columns = ['cidade', 'contagem']\n",
    "contagem_cidade = contagem_cidade.sort_values(by='contagem', ascending=True)\n",
    "grafico3 = px.histogram(dados, x=\"cidade\", color=\"regiao\", text_auto=True)\n",
    "grafico3.update_layout(xaxis={'categoryorder':'array', 'categoryarray': contagem_cidade['cidade']})\n",
    "grafico3.update_layout(title_text=\"Quantidade de Vendas por Cidade\", title_x=0.1,  xaxis=dict(title=\"\"))\n",
    "grafico3.show()"
   ]
  },
  {
   "cell_type": "markdown",
   "id": "2ec03c5d-e968-4e9d-b7c3-e53171ef71e2",
   "metadata": {},
   "source": [
    "#### Indicador 4 - Faturamento Por Cidade"
   ]
  },
  {
   "cell_type": "code",
   "execution_count": null,
   "id": "8199b3a6-dcda-4fe9-8678-470bf8a89f98",
   "metadata": {},
   "outputs": [],
   "source": [
    "faturamento_cidade = dados.groupby(\"cidade\").preco.sum().sort_values()\n",
    "faturamento_cidade"
   ]
  },
  {
   "cell_type": "code",
   "execution_count": null,
   "id": "1331b20f-05d9-43d5-8ade-2477c4b1a776",
   "metadata": {},
   "outputs": [],
   "source": [
    "grafico4 = px.histogram(faturamento_cidade,\n",
    "                        x=faturamento_cidade.index,\n",
    "                        y=faturamento_cidade.values,\n",
    "                        color=faturamento_cidade.index,\n",
    "                        text_auto=True)\n",
    "grafico4.update_layout(title_text=\"Faturamento Por Cidade\", title_x=0.1, xaxis=dict(title=\"\"))\n",
    "\n",
    "grafico4.show()"
   ]
  },
  {
   "cell_type": "markdown",
   "id": "dd12281a-f1a5-4753-97d4-08c84643a009",
   "metadata": {},
   "source": [
    "#### Indicador 5 - Faturamento de Cidade por Forma de Pagamento."
   ]
  },
  {
   "cell_type": "code",
   "execution_count": null,
   "id": "50299032-0804-44fb-a274-f0d7fd94f405",
   "metadata": {},
   "outputs": [],
   "source": [
    "grafico5 = px.histogram(dados,\n",
    "                   x=\"cidade\",\n",
    "                   y=\"preco\",\n",
    "                   text_auto=True,\n",
    "                   color=\"forma_pagamento\",\n",
    "                   category_orders={\"cidade\": dados.groupby(\"cidade\")[\"preco\"].sum().sort_values(ascending=True).index})\n",
    "grafico5.update_layout(title_text=\"Faturamento de Cidade por Forma de Pagamento\", title_x=0.1, xaxis=dict(title=\"\"))\n",
    "\n",
    "grafico5.show()"
   ]
  },
  {
   "cell_type": "markdown",
   "id": "69e19699-d0bd-4bfc-83e5-736cc016fe53",
   "metadata": {},
   "source": [
    "#### Indicador 6 - Quantidade de Vendas Por Estado."
   ]
  },
  {
   "cell_type": "code",
   "execution_count": null,
   "id": "691e4517-ae82-4436-81ff-a1e19c3947ea",
   "metadata": {},
   "outputs": [],
   "source": [
    "dados.estado.value_counts()"
   ]
  },
  {
   "cell_type": "code",
   "execution_count": null,
   "id": "5b39f129-324a-466a-b2bc-a3a917219d22",
   "metadata": {},
   "outputs": [],
   "source": [
    "grafico6 = px.histogram(dados, x=\"estado\",\n",
    "             color= \"forma_pagamento\",\n",
    "            text_auto=True)\n",
    "grafico6.update_layout(title_text=\"Quantidade de Vendas por Estado\", title_x=0.1,  xaxis=dict(title=\"\"))\n",
    "grafico6.show()"
   ]
  },
  {
   "cell_type": "markdown",
   "id": "3e504cf3-f1c0-4845-a7eb-4daf0d523135",
   "metadata": {},
   "source": [
    "#### Indicador 7 - Faturamento Por Estado."
   ]
  },
  {
   "cell_type": "code",
   "execution_count": null,
   "id": "698ba83e-645f-4f10-bccc-5fbc1695550b",
   "metadata": {},
   "outputs": [],
   "source": [
    "faturamento_estado = dados.groupby(\"estado\").preco.sum().sort_values()\n",
    "faturamento_estado"
   ]
  },
  {
   "cell_type": "code",
   "execution_count": null,
   "id": "e56874b2-8048-43f8-a362-31b4710dc500",
   "metadata": {},
   "outputs": [],
   "source": [
    "grafico7 = px.histogram(faturamento_estado,\n",
    "                        x=faturamento_estado.index,\n",
    "                        y=faturamento_estado.values,\n",
    "                        color=faturamento_estado.index,\n",
    "                        text_auto=True)\n",
    "grafico7.update_layout(title_text=\"Faturamento Por Estado\", title_x=0.1, xaxis=dict(title=\"\"))\n",
    "\n",
    "grafico7.show()"
   ]
  },
  {
   "cell_type": "markdown",
   "id": "bc36deac-6172-4c60-ae9c-ab42ed95b56d",
   "metadata": {},
   "source": [
    "#### Indicador 8 - Faturamento de Estado por Forma de Pagamento."
   ]
  },
  {
   "cell_type": "code",
   "execution_count": null,
   "id": "4ac7ce7e-7257-4a57-8fd6-64bc59c6a676",
   "metadata": {},
   "outputs": [],
   "source": [
    "grafico8 = px.histogram(dados,\n",
    "                   x=\"estado\",\n",
    "                   y=\"preco\",\n",
    "                   text_auto=True,\n",
    "                   color=\"forma_pagamento\",\n",
    "                   category_orders={\"estado\": dados.groupby(\"estado\")[\"preco\"].sum().sort_values(ascending=True).index})\n",
    "grafico8.update_layout(title_text=\"Faturamento de Estado por Forma de Pagamento\", title_x=0.1, xaxis=dict(title=\"\"))\n",
    "\n",
    "grafico8.show()"
   ]
  },
  {
   "cell_type": "markdown",
   "id": "1713f6af-1d96-4262-912a-5fa0a8ab4af5",
   "metadata": {},
   "source": [
    "#### Indicador 9 - Quantidade de Vendas por Região."
   ]
  },
  {
   "cell_type": "code",
   "execution_count": null,
   "id": "0bd7f468-8723-4854-acdd-052e14171e52",
   "metadata": {},
   "outputs": [],
   "source": [
    "dados.regiao.value_counts()"
   ]
  },
  {
   "cell_type": "code",
   "execution_count": null,
   "id": "f2b5ae62-754d-4177-86ac-00cc3bc38f40",
   "metadata": {},
   "outputs": [],
   "source": [
    "grafico9 = px.histogram(dados, x=\"regiao\",\n",
    "             color= \"forma_pagamento\",\n",
    "            text_auto=True)\n",
    "grafico9.update_layout(title_text=\"Quantidade de Vendas por Região\", title_x=0.1,  xaxis=dict(title=\"\"))\n",
    "grafico9.show()"
   ]
  },
  {
   "cell_type": "markdown",
   "id": "f837fa71-a814-4330-af32-69a69b9a7616",
   "metadata": {},
   "source": [
    "#### Indicador 10 - Quantidade de Vendas por Local de Consumo."
   ]
  },
  {
   "cell_type": "code",
   "execution_count": null,
   "id": "6c8f5170-4351-4c93-8fa2-c5d34e581c53",
   "metadata": {},
   "outputs": [],
   "source": [
    "dados.local_consumo.value_counts()"
   ]
  },
  {
   "cell_type": "code",
   "execution_count": null,
   "id": "60b7a164-5c2e-428b-9c9b-2e8442b95f25",
   "metadata": {},
   "outputs": [],
   "source": [
    "grafico10 = px.histogram(dados, x=\"local_consumo\",\n",
    "             color= \"local_consumo\",\n",
    "            text_auto=True)\n",
    "grafico10.update_layout(title_text=\"Quantidade de Vendas por Local de Consumo\", title_x=0.1,  xaxis=dict(title=\"\"))\n",
    "grafico10.show()"
   ]
  },
  {
   "cell_type": "markdown",
   "id": "9c9d514e-404b-43fa-a1e9-acb2d3924cad",
   "metadata": {},
   "source": [
    "#### Indicador 11 - Quantidade de Vendas por Local de Consumo e Forma de Pagamento."
   ]
  },
  {
   "cell_type": "code",
   "execution_count": null,
   "id": "f90606cf-3a33-4cd8-82a7-a2be0ee012f6",
   "metadata": {},
   "outputs": [],
   "source": [
    "grafico11 = px.histogram(dados, x=\"local_consumo\", color=\"forma_pagamento\", text_auto=True)\n",
    "\n",
    "# Atualizar o layout para remover a legenda do eixo x\n",
    "grafico11.update_layout(title_text=\"Quantidade de Vendas por Local de Consumo\", title_x=0.1, xaxis=dict(title=\"\"))\n",
    "\n",
    "# Exibir o gráfico\n",
    "grafico11.show()"
   ]
  },
  {
   "cell_type": "markdown",
   "id": "c33e349d-85dd-439d-bea0-77c3cf1b7fd7",
   "metadata": {},
   "source": [
    "#### Gráfico Interativo - para ver a evolução das lojas ao longo do tempo."
   ]
  },
  {
   "cell_type": "code",
   "execution_count": null,
   "id": "fdeb906e-6b9a-4b26-a082-27144351c61f",
   "metadata": {},
   "outputs": [],
   "source": [
    "agrupado = dados.groupby(['loja','ano_mes']).preco.sum().to_frame()\n",
    "agrupado.reset_index(inplace= True)\n",
    "agrupado['acumulado'] = agrupado.groupby('loja').preco.cumsum()\n",
    "\n",
    "fig = px.bar(agrupado,\n",
    "             x = 'acumulado',\n",
    "             y = \"loja\",\n",
    "             color='loja',\n",
    "             text_auto=True,\n",
    "             range_x=[0,123000],\n",
    "             animation_frame='ano_mes')\n",
    "fig.show()"
   ]
  }
 ],
 "metadata": {
  "kernelspec": {
   "display_name": "Python 3 (ipykernel)",
   "language": "python",
   "name": "python3"
  },
  "language_info": {
   "codemirror_mode": {
    "name": "ipython",
    "version": 3
   },
   "file_extension": ".py",
   "mimetype": "text/x-python",
   "name": "python",
   "nbconvert_exporter": "python",
   "pygments_lexer": "ipython3",
   "version": "3.11.7"
  }
 },
 "nbformat": 4,
 "nbformat_minor": 5
}
